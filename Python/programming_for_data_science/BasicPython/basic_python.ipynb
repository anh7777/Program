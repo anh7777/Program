{
 "cells": [
  {
   "cell_type": "markdown",
   "metadata": {},
   "source": [
    "2.2 Tam giác PASCAL\n",
    "\n",
    "Hoàn thiện chương trình nhập vào số nguyên m, in ra tam giác PASCAL bậc m. \n",
    "\n",
    "Ví dụ m = 3, kết quả in ra là\n",
    "\n",
    "1 \n",
    "\n",
    "1 1 \n",
    "\n",
    "1 2 1 \n",
    "\n",
    "1 3 3 1 \n",
    "\n",
    "\n",
    "*Chú ý kết quả có 1 dấu cách ở cuối mỗi dòng"
   ]
  },
  {
   "cell_type": "code",
   "execution_count": 3,
   "metadata": {},
   "outputs": [
    {
     "ename": "ValueError",
     "evalue": "invalid literal for int() with base 10: ''",
     "output_type": "error",
     "traceback": [
      "\u001b[1;31m---------------------------------------------------------------------------\u001b[0m",
      "\u001b[1;31mValueError\u001b[0m                                Traceback (most recent call last)",
      "Cell \u001b[1;32mIn[3], line 1\u001b[0m\n\u001b[1;32m----> 1\u001b[0m m \u001b[38;5;241m=\u001b[39m \u001b[38;5;28;43mint\u001b[39;49m\u001b[43m(\u001b[49m\u001b[38;5;28;43minput\u001b[39;49m\u001b[43m(\u001b[49m\u001b[38;5;124;43m\"\u001b[39;49m\u001b[38;5;124;43mEnter an integer: \u001b[39;49m\u001b[38;5;124;43m\"\u001b[39;49m\u001b[43m)\u001b[49m\u001b[43m)\u001b[49m\n",
      "\u001b[1;31mValueError\u001b[0m: invalid literal for int() with base 10: ''"
     ]
    }
   ],
   "source": [
    "m = int(input(\"Enter an integer: \"))\n"
   ]
  },
  {
   "cell_type": "markdown",
   "metadata": {},
   "source": [
    "2.6 Sắp xếp các phần tử trong mảng\n",
    "\n",
    "Viết chương trình thực hiện các chức năng sau:\n",
    "Nhập mảng\n",
    "Sắp xếp các phần tử trong mảng theo thứ tự tăng dần\n",
    "In mảng\n",
    "VÍ dụ:\n",
    "\n",
    "input: 1 2 4 5 3 6 0 9 8 7\n",
    "output: 0 1 2 3 4 5 6 7 8 9"
   ]
  },
  {
   "cell_type": "code",
   "execution_count": 2,
   "metadata": {},
   "outputs": [
    {
     "ename": "ValueError",
     "evalue": "invalid literal for int() with base 10: ''",
     "output_type": "error",
     "traceback": [
      "\u001b[1;31m---------------------------------------------------------------------------\u001b[0m",
      "\u001b[1;31mValueError\u001b[0m                                Traceback (most recent call last)",
      "Cell \u001b[1;32mIn[2], line 1\u001b[0m\n\u001b[1;32m----> 1\u001b[0m n \u001b[38;5;241m=\u001b[39m \u001b[38;5;28;43mint\u001b[39;49m\u001b[43m(\u001b[49m\u001b[38;5;28;43minput\u001b[39;49m\u001b[43m(\u001b[49m\u001b[43m)\u001b[49m\u001b[43m)\u001b[49m\n",
      "\u001b[1;31mValueError\u001b[0m: invalid literal for int() with base 10: ''"
     ]
    }
   ],
   "source": [
    "n = int(input())"
   ]
  },
  {
   "cell_type": "markdown",
   "metadata": {},
   "source": [
    "2.7 Tìm giá trị lớn thứ hai và nhỏ thứ hai trong mảng\n",
    "\n",
    "Viết chương trình thực hiện các chức năng sau:\n",
    "Nhập mảng\n",
    "Tìm phần tử nhỏ thứ hai và lớn thứ hai trong mảng\n",
    "Ví dụ:\n",
    "Input: -1 1 0 1 2 -3 4\n",
    "output: -1 2"
   ]
  },
  {
   "cell_type": "code",
   "execution_count": null,
   "metadata": {},
   "outputs": [],
   "source": []
  },
  {
   "cell_type": "markdown",
   "metadata": {},
   "source": [
    "2.8 Nhân ma trận\n",
    "\n",
    "Viết chương trình cho phép nhập 2 ma trận A và B có kịch thước tương ứng là (NxM) và (M XD) từ bàn phím, thực hiện phép nhân ma trận AxB.\n",
    "\n",
    "Hàm inputMatrix() thực hiện việc nhập kích thước ma trận, ma trận và trả lại một ma trận (mảng 2 chiều)  các số nguyên\n",
    "\n",
    "Hàm multiMatrix(m1, m2) thực hiện việc nhân hai ma trận và trả lại một ma trận các số nguyên.\n",
    "\n",
    "Hàm printMatrix(m) thực hiện in ra ma trận.\n",
    "\n",
    "Input: \n",
    "ma trận A: NxM\n",
    "ma trận B: MxD\n",
    "output:\n",
    "ma trận C: NxD\n",
    "\n",
    "Ví dụ:\n",
    "3 2 (Size of matrix 1)\n",
    "1 2\n",
    "4 5\n",
    "7 8\n",
    "2 3  (Size of matrix 2)\n",
    "1 0 1 \n",
    "1 0 1\n"
   ]
  },
  {
   "cell_type": "code",
   "execution_count": null,
   "metadata": {},
   "outputs": [],
   "source": []
  },
  {
   "cell_type": "markdown",
   "metadata": {},
   "source": [
    "2.9 Kiểm tra ma trận tam giác trên\n",
    "\n",
    "Viết chương trình thực hiện các chức năng sau:\n",
    "\n",
    "Nhập ma trận\n",
    "Kiểm tra xem ma trận đó có phải ma trận tam giác trên hay không?"
   ]
  },
  {
   "cell_type": "code",
   "execution_count": null,
   "metadata": {},
   "outputs": [],
   "source": [
    "#"
   ]
  },
  {
   "cell_type": "markdown",
   "metadata": {},
   "source": [
    "2.10 Ma trận chuyển vị\n",
    "\n",
    "Viết chương trình thực hiện các chức năng sau:\n",
    "\n",
    "Nhập ma trận vuông 2 chiều M: NxN\n",
    "Thực hiện phép chuyển vị cho ma trận M\n",
    "In ra ma trận chuyển vị"
   ]
  }
 ],
 "metadata": {
  "kernelspec": {
   "display_name": "Python 3",
   "language": "python",
   "name": "python3"
  },
  "language_info": {
   "codemirror_mode": {
    "name": "ipython",
    "version": 3
   },
   "file_extension": ".py",
   "mimetype": "text/x-python",
   "name": "python",
   "nbconvert_exporter": "python",
   "pygments_lexer": "ipython3",
   "version": "3.11.8"
  }
 },
 "nbformat": 4,
 "nbformat_minor": 2
}
