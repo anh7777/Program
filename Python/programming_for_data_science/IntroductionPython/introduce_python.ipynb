{
 "cells": [
  {
   "cell_type": "markdown",
   "metadata": {},
   "source": [
    "1.4 Tam giác\n",
    "\n",
    "Nhập ba số a, b, c tương ứng là độ dài 3 cạnh của một tam giác. Kiểm tra xem 3 cạnh có lập thành tam giác hay không, nếu có tính chu vi và diện tích tam giác.\n",
    "\n",
    "Chú ý, a, b , c được nhập lần lượt trên từng dòng.\n",
    "\n",
    "- Nếu 3 cạnh không lập thành tam giác in ra INVALID\n",
    "- Nếu 3 cạnh lập thành tam giác in ra S = #S ; C = #C trong đó #S, #C là chu vi và diện tích của tam giác"
   ]
  },
  {
   "cell_type": "code",
   "execution_count": 3,
   "metadata": {},
   "outputs": [
    {
     "name": "stdout",
     "output_type": "stream",
     "text": [
      "S = 77.76888838089432; C = 12\n"
     ]
    }
   ],
   "source": [
    "import math\n",
    "def is_treight(a,b,c):\n",
    "    if a+b > c and a+c > b and c+b > a:\n",
    "        return True\n",
    "    return False\n",
    "    \n",
    "a = float(input())\n",
    "b = float(input())\n",
    "c = float(input())\n",
    "\n",
    "if is_treight(a,b,c):\n",
    "    p = (a + b + c)\n",
    "    half_p = p/2\n",
    "    s = math.sqrt(half_p*(half_p-a)*(half_p-b)*(half_p-c))\n",
    "    print(f\"S =  {s} C =  {p}\")\n",
    "else:\n",
    "    print(\"INVALID\")"
   ]
  }
 ],
 "metadata": {
  "kernelspec": {
   "display_name": "Python 3",
   "language": "python",
   "name": "python3"
  },
  "language_info": {
   "codemirror_mode": {
    "name": "ipython",
    "version": 3
   },
   "file_extension": ".py",
   "mimetype": "text/x-python",
   "name": "python",
   "nbconvert_exporter": "python",
   "pygments_lexer": "ipython3",
   "version": "3.11.8"
  }
 },
 "nbformat": 4,
 "nbformat_minor": 2
}
